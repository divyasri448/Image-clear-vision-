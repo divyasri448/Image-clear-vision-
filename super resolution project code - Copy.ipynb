{
 "cells": [
  {
   "cell_type": "code",
   "execution_count": 44,
   "id": "4a77171c",
   "metadata": {},
   "outputs": [],
   "source": [
    "import cv2"
   ]
  },
  {
   "cell_type": "code",
   "execution_count": 45,
   "id": "adf9bfcf",
   "metadata": {},
   "outputs": [],
   "source": [
    "from cv2 import dnn_superres"
   ]
  },
  {
   "cell_type": "code",
   "execution_count": 46,
   "id": "1468311f",
   "metadata": {},
   "outputs": [],
   "source": [
    "sr1=dnn_superres.DnnSuperResImpl_create()"
   ]
  },
  {
   "cell_type": "code",
   "execution_count": 47,
   "id": "00d2a808",
   "metadata": {},
   "outputs": [],
   "source": [
    "path='EDSR_x4.pb'\n"
   ]
  },
  {
   "cell_type": "code",
   "execution_count": 48,
   "id": "26dd5164",
   "metadata": {},
   "outputs": [],
   "source": [
    "sr1.readModel(path)"
   ]
  },
  {
   "cell_type": "code",
   "execution_count": 49,
   "id": "00b831c3",
   "metadata": {},
   "outputs": [],
   "source": [
    "sr1.setModel('edsr',4)"
   ]
  },
  {
   "cell_type": "code",
   "execution_count": 50,
   "id": "a246d994",
   "metadata": {},
   "outputs": [],
   "source": [
    "sr1.setPreferableBackend(cv2.dnn.DNN_BACKEND_CUDA)"
   ]
  },
  {
   "cell_type": "code",
   "execution_count": 51,
   "id": "519552db",
   "metadata": {},
   "outputs": [],
   "source": [
    "sr1.setPreferableTarget(cv2.dnn.DNN_TARGET_CUDA)"
   ]
  },
  {
   "cell_type": "code",
   "execution_count": 52,
   "id": "879e4eb7",
   "metadata": {},
   "outputs": [],
   "source": [
    "image=cv2.imread(r\"C:\\Users\\K.Duryodhana\\test.jpg\")"
   ]
  },
  {
   "cell_type": "code",
   "execution_count": 53,
   "id": "b31c6eda",
   "metadata": {},
   "outputs": [],
   "source": [
    "height, width, channels = image.shape"
   ]
  },
  {
   "cell_type": "code",
   "execution_count": 54,
   "id": "1a500d03",
   "metadata": {},
   "outputs": [
    {
     "name": "stdout",
     "output_type": "stream",
     "text": [
      "Image dimensions: 270 x 180\n"
     ]
    }
   ],
   "source": [
    "print(\"Image dimensions: {} x {}\".format(width, height))"
   ]
  },
  {
   "cell_type": "code",
   "execution_count": 55,
   "id": "d0a7eb6d",
   "metadata": {},
   "outputs": [],
   "source": [
    "pixels = width * height"
   ]
  },
  {
   "cell_type": "code",
   "execution_count": 56,
   "id": "0443dc5c",
   "metadata": {},
   "outputs": [
    {
     "name": "stdout",
     "output_type": "stream",
     "text": [
      "48600\n"
     ]
    }
   ],
   "source": [
    "print(pixels)"
   ]
  },
  {
   "cell_type": "code",
   "execution_count": 57,
   "id": "755bbee6",
   "metadata": {},
   "outputs": [],
   "source": [
    "upscaled=sr1.upsample(image)"
   ]
  },
  {
   "cell_type": "code",
   "execution_count": 58,
   "id": "cfd471df",
   "metadata": {},
   "outputs": [
    {
     "data": {
      "text/plain": [
       "True"
      ]
     },
     "execution_count": 58,
     "metadata": {},
     "output_type": "execute_result"
    }
   ],
   "source": [
    "cv2.imwrite('upscaled_test_edsrn.jpg',upscaled)"
   ]
  },
  {
   "cell_type": "code",
   "execution_count": 59,
   "id": "1448d072",
   "metadata": {},
   "outputs": [],
   "source": [
    "height1, width1, channels = upscaled.shape"
   ]
  },
  {
   "cell_type": "code",
   "execution_count": 60,
   "id": "2fbdac41",
   "metadata": {},
   "outputs": [
    {
     "name": "stdout",
     "output_type": "stream",
     "text": [
      "Image dimensions: 1080 x 720\n"
     ]
    }
   ],
   "source": [
    "print(\"Image dimensions: {} x {}\".format(width1, height1))"
   ]
  },
  {
   "cell_type": "code",
   "execution_count": 61,
   "id": "5252f3e7",
   "metadata": {},
   "outputs": [],
   "source": [
    "pixels1 = width1 * height1"
   ]
  },
  {
   "cell_type": "code",
   "execution_count": 62,
   "id": "0e94431e",
   "metadata": {},
   "outputs": [
    {
     "name": "stdout",
     "output_type": "stream",
     "text": [
      "777600\n"
     ]
    }
   ],
   "source": [
    "print(pixels1)"
   ]
  },
  {
   "cell_type": "code",
   "execution_count": 63,
   "id": "e50a038e",
   "metadata": {},
   "outputs": [],
   "source": [
    "bicubic=cv2.resize(image,(upscaled.shape[1],upscaled.shape[0]),interpolation=cv2.INTER_CUBIC)"
   ]
  },
  {
   "cell_type": "code",
   "execution_count": 64,
   "id": "9262545c",
   "metadata": {},
   "outputs": [
    {
     "data": {
      "text/plain": [
       "True"
      ]
     },
     "execution_count": 64,
     "metadata": {},
     "output_type": "execute_result"
    }
   ],
   "source": [
    "cv2.imwrite('bicubic_test_4x.jpg',bicubic)"
   ]
  },
  {
   "cell_type": "code",
   "execution_count": 65,
   "id": "eea34571",
   "metadata": {},
   "outputs": [],
   "source": [
    "height2, width2, channels = bicubic.shape"
   ]
  },
  {
   "cell_type": "code",
   "execution_count": 66,
   "id": "c602a50a",
   "metadata": {},
   "outputs": [
    {
     "name": "stdout",
     "output_type": "stream",
     "text": [
      "Image dimensions: 1080 x 720\n"
     ]
    }
   ],
   "source": [
    "print(\"Image dimensions: {} x {}\".format(width2, height2))"
   ]
  },
  {
   "cell_type": "code",
   "execution_count": 67,
   "id": "ba3a3643",
   "metadata": {},
   "outputs": [],
   "source": [
    "pixels2=width2  * height2"
   ]
  },
  {
   "cell_type": "code",
   "execution_count": 68,
   "id": "0022919e",
   "metadata": {},
   "outputs": [
    {
     "name": "stdout",
     "output_type": "stream",
     "text": [
      "777600\n"
     ]
    }
   ],
   "source": [
    "print(pixels2)"
   ]
  },
  {
   "cell_type": "code",
   "execution_count": 69,
   "id": "a1b941dd",
   "metadata": {},
   "outputs": [],
   "source": [
    "sr2=dnn_superres.DnnSuperResImpl_create()"
   ]
  },
  {
   "cell_type": "code",
   "execution_count": 70,
   "id": "16c5f2f3",
   "metadata": {},
   "outputs": [],
   "source": [
    "path='LapSRN_x8.pb'"
   ]
  },
  {
   "cell_type": "code",
   "execution_count": 71,
   "id": "dedc7055",
   "metadata": {},
   "outputs": [],
   "source": [
    "sr2.readModel(path)"
   ]
  },
  {
   "cell_type": "code",
   "execution_count": 72,
   "id": "ef9275ea",
   "metadata": {},
   "outputs": [],
   "source": [
    "sr2.setModel('lapsrn',8)"
   ]
  },
  {
   "cell_type": "code",
   "execution_count": 73,
   "id": "e80cf433",
   "metadata": {},
   "outputs": [],
   "source": [
    "sr2.setPreferableBackend(cv2.dnn.DNN_BACKEND_CUDA)"
   ]
  },
  {
   "cell_type": "code",
   "execution_count": 74,
   "id": "5e77984e",
   "metadata": {},
   "outputs": [],
   "source": [
    "sr2.setPreferableTarget(cv2.dnn.DNN_TARGET_CUDA)"
   ]
  },
  {
   "cell_type": "code",
   "execution_count": 75,
   "id": "f502d451",
   "metadata": {},
   "outputs": [],
   "source": [
    "upscaled1=sr2.upsample(image)"
   ]
  },
  {
   "cell_type": "code",
   "execution_count": 33,
   "id": "4af337ec",
   "metadata": {},
   "outputs": [
    {
     "data": {
      "text/plain": [
       "True"
      ]
     },
     "execution_count": 33,
     "metadata": {},
     "output_type": "execute_result"
    }
   ],
   "source": [
    "cv2.imwrite('upscaled_babygirl_lapsrn.jpg',upscaled)"
   ]
  },
  {
   "cell_type": "code",
   "execution_count": 34,
   "id": "44555059",
   "metadata": {},
   "outputs": [],
   "source": [
    "height3, width3, channels = upscaled1.shape"
   ]
  },
  {
   "cell_type": "code",
   "execution_count": 35,
   "id": "de1bc46e",
   "metadata": {},
   "outputs": [
    {
     "name": "stdout",
     "output_type": "stream",
     "text": [
      "Image dimensions: 4000 x 3272\n"
     ]
    }
   ],
   "source": [
    "print(\"Image dimensions: {} x {}\".format(width3, height3))"
   ]
  },
  {
   "cell_type": "code",
   "execution_count": 36,
   "id": "bc2cfa3c",
   "metadata": {},
   "outputs": [],
   "source": [
    "pixels3 = width3 * height3"
   ]
  },
  {
   "cell_type": "code",
   "execution_count": 37,
   "id": "c35d2161",
   "metadata": {},
   "outputs": [
    {
     "name": "stdout",
     "output_type": "stream",
     "text": [
      "13088000\n"
     ]
    }
   ],
   "source": [
    "print(pixels3)"
   ]
  },
  {
   "cell_type": "code",
   "execution_count": 38,
   "id": "bc0d30f5",
   "metadata": {},
   "outputs": [],
   "source": [
    "bicubic1=cv2.resize(image,(upscaled1.shape[1],upscaled1.shape[0]),interpolation=cv2.INTER_CUBIC)"
   ]
  },
  {
   "cell_type": "code",
   "execution_count": 39,
   "id": "0b03a2e4",
   "metadata": {},
   "outputs": [
    {
     "data": {
      "text/plain": [
       "True"
      ]
     },
     "execution_count": 39,
     "metadata": {},
     "output_type": "execute_result"
    }
   ],
   "source": [
    "cv2.imwrite('bicubic_tst_8x.jpg',bicubic)"
   ]
  },
  {
   "cell_type": "code",
   "execution_count": 40,
   "id": "189468e3",
   "metadata": {},
   "outputs": [],
   "source": [
    "height4, width4, channels = bicubic1.shape"
   ]
  },
  {
   "cell_type": "code",
   "execution_count": 41,
   "id": "6e8c8cd2",
   "metadata": {},
   "outputs": [
    {
     "name": "stdout",
     "output_type": "stream",
     "text": [
      "Image dimensions: 4000 x 3272\n"
     ]
    }
   ],
   "source": [
    "print(\"Image dimensions: {} x {}\".format(width4, height4))"
   ]
  },
  {
   "cell_type": "code",
   "execution_count": 42,
   "id": "506a444c",
   "metadata": {},
   "outputs": [],
   "source": [
    "pixels4=width4  * height4"
   ]
  },
  {
   "cell_type": "code",
   "execution_count": 43,
   "id": "d0a8bb4b",
   "metadata": {},
   "outputs": [
    {
     "name": "stdout",
     "output_type": "stream",
     "text": [
      "13088000\n"
     ]
    }
   ],
   "source": [
    "print(pixels4)"
   ]
  },
  {
   "cell_type": "code",
   "execution_count": null,
   "id": "7bbaa0f2",
   "metadata": {},
   "outputs": [],
   "source": []
  },
  {
   "cell_type": "code",
   "execution_count": null,
   "id": "115af2bd",
   "metadata": {},
   "outputs": [],
   "source": []
  }
 ],
 "metadata": {
  "kernelspec": {
   "display_name": "Python 3 (ipykernel)",
   "language": "python",
   "name": "python3"
  },
  "language_info": {
   "codemirror_mode": {
    "name": "ipython",
    "version": 3
   },
   "file_extension": ".py",
   "mimetype": "text/x-python",
   "name": "python",
   "nbconvert_exporter": "python",
   "pygments_lexer": "ipython3",
   "version": "3.10.9"
  }
 },
 "nbformat": 4,
 "nbformat_minor": 5
}
